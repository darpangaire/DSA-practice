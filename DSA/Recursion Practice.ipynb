{
 "cells": [
  {
   "cell_type": "code",
   "execution_count": 5,
   "id": "0b267d50",
   "metadata": {},
   "outputs": [
    {
     "data": {
      "text/plain": [
       "120"
      ]
     },
     "execution_count": 5,
     "metadata": {},
     "output_type": "execute_result"
    }
   ],
   "source": [
    "def factorial(n):\n",
    "    if n == 0:\n",
    "        return 1\n",
    "    return n*factorial(n-1)\n",
    "    \n",
    "\n",
    "factorial(5)\n",
    "    "
   ]
  },
  {
   "cell_type": "code",
   "execution_count": 6,
   "id": "81fd1982",
   "metadata": {},
   "outputs": [
    {
     "data": {
      "text/plain": [
       "64"
      ]
     },
     "execution_count": 6,
     "metadata": {},
     "output_type": "execute_result"
    }
   ],
   "source": [
    "def power(num,x):\n",
    "    if x == 0:\n",
    "        return 1\n",
    "    \n",
    "    return num*power(num,x-1)\n",
    "\n",
    "power(4,3)"
   ]
  },
  {
   "cell_type": "code",
   "execution_count": 8,
   "id": "44da7c07",
   "metadata": {},
   "outputs": [
    {
     "name": "stdout",
     "output_type": "stream",
     "text": [
      "1 2 3 4 5 "
     ]
    }
   ],
   "source": [
    "# print counting...\n",
    "def counting(num):\n",
    "    if num == 0:\n",
    "        return \n",
    "    \n",
    "    counting(num-1)\n",
    "    print(num,end =' ')\n",
    "\n",
    "counting(5)\n"
   ]
  },
  {
   "cell_type": "code",
   "execution_count": 11,
   "id": "a0f422dd",
   "metadata": {},
   "outputs": [
    {
     "name": "stdout",
     "output_type": "stream",
     "text": [
      "1 2 3 4 5 6 7 8 9 bhai ma pugey\n"
     ]
    }
   ],
   "source": [
    "def reachHome(dest,src):\n",
    "    if src == dest:\n",
    "        print('bhai ma pugey')\n",
    "        return\n",
    "    print(src,end = ' ')\n",
    "    src += 1\n",
    "    reachHome(dest,src)\n",
    "    \n",
    "reachHome(10,1)"
   ]
  },
  {
   "cell_type": "code",
   "execution_count": 14,
   "id": "7ec1f2f8",
   "metadata": {},
   "outputs": [
    {
     "ename": "KeyboardInterrupt",
     "evalue": "",
     "output_type": "error",
     "traceback": [
      "\u001b[1;31m---------------------------------------------------------------------------\u001b[0m",
      "\u001b[1;31mKeyboardInterrupt\u001b[0m                         Traceback (most recent call last)",
      "Input \u001b[1;32mIn [14]\u001b[0m, in \u001b[0;36m<cell line: 15>\u001b[1;34m()\u001b[0m\n\u001b[0;32m     12\u001b[0m     d \u001b[38;5;241m=\u001b[39m fibonacci_number(num\u001b[38;5;241m-\u001b[39m\u001b[38;5;241m1\u001b[39m)\u001b[38;5;241m+\u001b[39mfibonacci_number(num\u001b[38;5;241m-\u001b[39m\u001b[38;5;241m2\u001b[39m)\n\u001b[0;32m     13\u001b[0m     \u001b[38;5;28;01mreturn\u001b[39;00m d\n\u001b[1;32m---> 15\u001b[0m \u001b[43mfibonacci_number\u001b[49m\u001b[43m(\u001b[49m\u001b[38;5;241;43m100\u001b[39;49m\u001b[43m)\u001b[49m\n",
      "Input \u001b[1;32mIn [14]\u001b[0m, in \u001b[0;36mfibonacci_number\u001b[1;34m(num)\u001b[0m\n\u001b[0;32m      9\u001b[0m \u001b[38;5;28;01mif\u001b[39;00m num \u001b[38;5;241m==\u001b[39m \u001b[38;5;241m1\u001b[39m:\n\u001b[0;32m     10\u001b[0m     \u001b[38;5;28;01mreturn\u001b[39;00m \u001b[38;5;241m1\u001b[39m\n\u001b[1;32m---> 12\u001b[0m d \u001b[38;5;241m=\u001b[39m \u001b[43mfibonacci_number\u001b[49m\u001b[43m(\u001b[49m\u001b[43mnum\u001b[49m\u001b[38;5;241;43m-\u001b[39;49m\u001b[38;5;241;43m1\u001b[39;49m\u001b[43m)\u001b[49m\u001b[38;5;241m+\u001b[39mfibonacci_number(num\u001b[38;5;241m-\u001b[39m\u001b[38;5;241m2\u001b[39m)\n\u001b[0;32m     13\u001b[0m \u001b[38;5;28;01mreturn\u001b[39;00m d\n",
      "Input \u001b[1;32mIn [14]\u001b[0m, in \u001b[0;36mfibonacci_number\u001b[1;34m(num)\u001b[0m\n\u001b[0;32m      9\u001b[0m \u001b[38;5;28;01mif\u001b[39;00m num \u001b[38;5;241m==\u001b[39m \u001b[38;5;241m1\u001b[39m:\n\u001b[0;32m     10\u001b[0m     \u001b[38;5;28;01mreturn\u001b[39;00m \u001b[38;5;241m1\u001b[39m\n\u001b[1;32m---> 12\u001b[0m d \u001b[38;5;241m=\u001b[39m \u001b[43mfibonacci_number\u001b[49m\u001b[43m(\u001b[49m\u001b[43mnum\u001b[49m\u001b[38;5;241;43m-\u001b[39;49m\u001b[38;5;241;43m1\u001b[39;49m\u001b[43m)\u001b[49m\u001b[38;5;241m+\u001b[39mfibonacci_number(num\u001b[38;5;241m-\u001b[39m\u001b[38;5;241m2\u001b[39m)\n\u001b[0;32m     13\u001b[0m \u001b[38;5;28;01mreturn\u001b[39;00m d\n",
      "    \u001b[1;31m[... skipping similar frames: fibonacci_number at line 12 (83 times)]\u001b[0m\n",
      "Input \u001b[1;32mIn [14]\u001b[0m, in \u001b[0;36mfibonacci_number\u001b[1;34m(num)\u001b[0m\n\u001b[0;32m      9\u001b[0m \u001b[38;5;28;01mif\u001b[39;00m num \u001b[38;5;241m==\u001b[39m \u001b[38;5;241m1\u001b[39m:\n\u001b[0;32m     10\u001b[0m     \u001b[38;5;28;01mreturn\u001b[39;00m \u001b[38;5;241m1\u001b[39m\n\u001b[1;32m---> 12\u001b[0m d \u001b[38;5;241m=\u001b[39m fibonacci_number(num\u001b[38;5;241m-\u001b[39m\u001b[38;5;241m1\u001b[39m)\u001b[38;5;241m+\u001b[39m\u001b[43mfibonacci_number\u001b[49m\u001b[43m(\u001b[49m\u001b[43mnum\u001b[49m\u001b[38;5;241;43m-\u001b[39;49m\u001b[38;5;241;43m2\u001b[39;49m\u001b[43m)\u001b[49m\n\u001b[0;32m     13\u001b[0m \u001b[38;5;28;01mreturn\u001b[39;00m d\n",
      "Input \u001b[1;32mIn [14]\u001b[0m, in \u001b[0;36mfibonacci_number\u001b[1;34m(num)\u001b[0m\n\u001b[0;32m      1\u001b[0m \u001b[38;5;28;01mdef\u001b[39;00m \u001b[38;5;21mfibonacci_number\u001b[39m(num):\n\u001b[1;32m----> 2\u001b[0m     \u001b[38;5;28;01mif\u001b[39;00m \u001b[43mnum\u001b[49m\u001b[43m \u001b[49m\u001b[38;5;241;43m>\u001b[39;49m\u001b[43m \u001b[49m\u001b[38;5;241;43m100\u001b[39;49m:\n\u001b[0;32m      3\u001b[0m         \u001b[38;5;28mprint\u001b[39m(\u001b[38;5;124m'\u001b[39m\u001b[38;5;124mrukhh bhai abw tw\u001b[39m\u001b[38;5;124m'\u001b[39m)\n\u001b[0;32m      4\u001b[0m         \u001b[38;5;28;01mreturn\u001b[39;00m\n",
      "\u001b[1;31mKeyboardInterrupt\u001b[0m: "
     ]
    }
   ],
   "source": [
    "def fibonacci_number(num):\n",
    "    if num > 100:\n",
    "        print('rukhh bhai abw tw')\n",
    "        return\n",
    "    \n",
    "    if num == 0:\n",
    "        return 0\n",
    "    \n",
    "    if num == 1:\n",
    "        return 1\n",
    "    \n",
    "    d = fibonacci_number(num-1)+fibonacci_number(num-2)\n",
    "    return d\n",
    "\n",
    "fibonacci_number(100)"
   ]
  },
  {
   "cell_type": "code",
   "execution_count": 1,
   "id": "621dc023",
   "metadata": {},
   "outputs": [
    {
     "data": {
      "text/plain": [
       "89"
      ]
     },
     "execution_count": 1,
     "metadata": {},
     "output_type": "execute_result"
    }
   ],
   "source": [
    "def fibonacci_number(n):\n",
    "    if n <= 1:\n",
    "        return n\n",
    "    return fibonacci_number(n-1) + fibonacci_number(n-2)\n",
    "\n",
    "fibonacci_number(11)"
   ]
  },
  {
   "cell_type": "code",
   "execution_count": 2,
   "id": "c9d96a2c",
   "metadata": {},
   "outputs": [
    {
     "name": "stdout",
     "output_type": "stream",
     "text": [
      "two three four "
     ]
    }
   ],
   "source": [
    "def sayDigit(n,arr):\n",
    "    if n == 0:\n",
    "        return\n",
    "    \n",
    "    digit = n%10\n",
    "    n = n//10\n",
    "    print(arr[digit],end = ' ')\n",
    "    sayDigit(n,arr)\n",
    "\n",
    "arr = ['zero','one','two','three','four','five','six','seven','eight','nine']\n",
    "sayDigit(432,arr)\n"
   ]
  },
  {
   "cell_type": "code",
   "execution_count": 5,
   "id": "2bf70c13",
   "metadata": {},
   "outputs": [
    {
     "data": {
      "text/plain": [
       "'Sorted'"
      ]
     },
     "execution_count": 5,
     "metadata": {},
     "output_type": "execute_result"
    }
   ],
   "source": [
    "def checking_sorted(arr,i,j,n):\n",
    "    if j>=n:\n",
    "        return 'Sorted'\n",
    "    \n",
    "    if i >+j:\n",
    "        return\n",
    "    \n",
    "    if arr[i] > arr[j]:\n",
    "        return 'Not Sorted'\n",
    "    \n",
    "\n",
    "    return checking_sorted(arr,i+1,j+1,n)\n",
    "    \n",
    "\n",
    "arr = [1,4,6,8,10]\n",
    "checking_sorted(arr,0,1,len(arr))\n"
   ]
  },
  {
   "cell_type": "code",
   "execution_count": 19,
   "id": "af01c84e",
   "metadata": {},
   "outputs": [
    {
     "data": {
      "text/plain": [
       "17"
      ]
     },
     "execution_count": 19,
     "metadata": {},
     "output_type": "execute_result"
    }
   ],
   "source": [
    "def sums(arr,total,n):\n",
    "    if n < 0:\n",
    "        return total\n",
    "    \n",
    "    total += arr[n]\n",
    "    return sums(arr,total,n-1)\n",
    "    \n",
    "arr = [3,2,5,1,6]\n",
    "total = 0\n",
    "sums(arr,total,len(arr)-1)\n"
   ]
  },
  {
   "cell_type": "code",
   "execution_count": 17,
   "id": "8235cd5d",
   "metadata": {},
   "outputs": [
    {
     "data": {
      "text/plain": [
       "'Found'"
      ]
     },
     "execution_count": 17,
     "metadata": {},
     "output_type": "execute_result"
    }
   ],
   "source": [
    "def search(arr,n,key):\n",
    "    if n< 0:\n",
    "        return 'Not Found'\n",
    "    \n",
    "    if arr[n] == key:\n",
    "        return 'Found'\n",
    "    return search(arr,n-1,2)\n",
    "    \n",
    "arr = [3,4,2,8,6]\n",
    "search(arr,len(arr)-1,2)\n",
    "    "
   ]
  },
  {
   "cell_type": "code",
   "execution_count": 20,
   "id": "5aa40c62",
   "metadata": {},
   "outputs": [
    {
     "data": {
      "text/plain": [
       "3"
      ]
     },
     "execution_count": 20,
     "metadata": {},
     "output_type": "execute_result"
    }
   ],
   "source": [
    "# binary search\n",
    "def binary_search(arr,low,high,key):\n",
    "    if low > high:\n",
    "        return 'Not Available'\n",
    "    \n",
    "    mid = (low+high)//2\n",
    "    if arr[mid] == key:\n",
    "        return mid\n",
    "    \n",
    "    elif arr[low] > arr[mid]:\n",
    "        return binary_search(arr,low,mid-1,key)\n",
    "    \n",
    "    else:\n",
    "        return binary_search(arr,mid+1,high,key)\n",
    "    \n",
    "arr = [1,2,3,4,5,6,7]\n",
    "binary_search(arr,0,len(arr)-1,4)"
   ]
  },
  {
   "cell_type": "code",
   "execution_count": 24,
   "id": "db368592",
   "metadata": {},
   "outputs": [
    {
     "data": {
      "text/plain": [
       "'edcba'"
      ]
     },
     "execution_count": 24,
     "metadata": {},
     "output_type": "execute_result"
    }
   ],
   "source": [
    "def reversing(arr,i,j):\n",
    "    if i >= j:\n",
    "        return arr\n",
    "    \n",
    "    arr[i],arr[j] = arr[j],arr[i]\n",
    "    return ''.join(reversing(arr,i+1,j-1))\n",
    "    \n",
    "arr = ['a','b','c','d','e']\n",
    "\n",
    "reversing(arr,0,len(arr)-1)"
   ]
  },
  {
   "cell_type": "code",
   "execution_count": 6,
   "id": "b89c7f37",
   "metadata": {},
   "outputs": [
    {
     "data": {
      "text/plain": [
       "'palindrome'"
      ]
     },
     "execution_count": 6,
     "metadata": {},
     "output_type": "execute_result"
    }
   ],
   "source": [
    "def check_palindrome(arr,i,j):\n",
    "    if i>= j:\n",
    "        return 'palindrome'\n",
    "    \n",
    "    if arr[i] != arr[j]:\n",
    "        return 'Not Palindrome'\n",
    "    \n",
    "    return check_palindrome(arr,i+1,j-1)\n",
    "\n",
    "arr = 'abba'\n",
    "check_palindrome(arr,0,len(arr)-1)\n",
    "    "
   ]
  },
  {
   "cell_type": "code",
   "execution_count": 4,
   "id": "bba8be0b",
   "metadata": {},
   "outputs": [
    {
     "data": {
      "text/plain": [
       "179769313486231590772930519078902473361797697894230657273430081157732675805500963132708477322407536021120113879871393357658789768814416622492847430639474124377767893424865485276302219601246094119453082952085005768838150682342462881473913110540827237163350510684586298239947245938479716304835356329624224137216"
      ]
     },
     "execution_count": 4,
     "metadata": {},
     "output_type": "execute_result"
    }
   ],
   "source": [
    "def power(a,b):\n",
    "    if b == 0:\n",
    "        return 1\n",
    "    \n",
    "    if b == 1:\n",
    "        return a\n",
    "    \n",
    "    ans = power(a,b/2)\n",
    "    if b%2 == 0:\n",
    "        return  ans * ans\n",
    "    \n",
    "    else:\n",
    "        return a*(ans*ans)\n",
    "    \n",
    "power(2,1024)"
   ]
  },
  {
   "cell_type": "code",
   "execution_count": 4,
   "id": "b9fd316f",
   "metadata": {},
   "outputs": [
    {
     "name": "stdout",
     "output_type": "stream",
     "text": [
      "[1, 2, 3, 15, 19, 20]\n"
     ]
    }
   ],
   "source": [
    "def bubble_sort(arr,n):\n",
    "    if n ==0 or n == 1:\n",
    "        return\n",
    "    \n",
    "    for i in range(n-1):\n",
    "        if arr[i]>arr[i+1]:\n",
    "            arr[i],arr[i+1] = arr[i+1],arr[i]\n",
    "    bubble_sort(arr,n-1)\n",
    "        \n",
    "arr = [15,19,2,1,3,20]\n",
    "bubble_sort(arr,len(arr))\n",
    "print(arr)"
   ]
  },
  {
   "cell_type": "code",
   "execution_count": 4,
   "id": "5cf0471c",
   "metadata": {},
   "outputs": [
    {
     "data": {
      "text/plain": [
       "[11, 12, 22, 25, 64]"
      ]
     },
     "execution_count": 4,
     "metadata": {},
     "output_type": "execute_result"
    }
   ],
   "source": [
    "def selection_sort(arr,n):\n",
    "    for i in range(n-1):\n",
    "        min_idx = i\n",
    "        for j in range(i+1,n):\n",
    "            if arr[min_idx] >arr[j]:\n",
    "                min_idx = j\n",
    "                \n",
    "        arr[min_idx],arr[i] = arr[i],arr[min_idx]\n",
    "    return arr\n",
    "        \n",
    "A = [64, 25, 12, 22, 11]\n",
    "selection_sort(A,len(A))\n"
   ]
  },
  {
   "cell_type": "code",
   "execution_count": 8,
   "id": "8d3ac0a2",
   "metadata": {},
   "outputs": [
    {
     "name": "stdout",
     "output_type": "stream",
     "text": [
      "ad ae af bd be bf cd ce cf "
     ]
    }
   ],
   "source": [
    "def phone_keys(digits):\n",
    "    if not digits:\n",
    "        return []\n",
    "    \n",
    "    digit_to_char = ['','','abc','def','ghi','jkl','mno','pqrs','tuv','wxyz']\n",
    "    \n",
    "    def backtrack(index,current_combination):\n",
    "        if index == len(digits):\n",
    "            print(current_combination,end = ' ')\n",
    "            return\n",
    "        \n",
    "        current_digit = int(digits[index])\n",
    "        for char in digit_to_char[current_digit]:\n",
    "            backtrack(index + 1,current_combination+char)\n",
    "        \n",
    "    backtrack(0,'')\n",
    "    \n",
    "\n",
    "phone_keys('23')"
   ]
  },
  {
   "cell_type": "code",
   "execution_count": 2,
   "id": "4836ea62",
   "metadata": {},
   "outputs": [
    {
     "name": "stdout",
     "output_type": "stream",
     "text": [
      "ad ae af bd be bf cd ce cf "
     ]
    }
   ],
   "source": [
    "def phonne_keys(digits):\n",
    "    if not digits:\n",
    "        return []\n",
    "    \n",
    "    digit_to_char = ['','','abc','def','ghi','jkl','mno','pqrs','tuv','wxyz']\n",
    "    \n",
    "    def backtrack(index,current_combination):\n",
    "        if index == len(digits):\n",
    "            print(current_combination,end = ' ')\n",
    "            return\n",
    "        \n",
    "        current_digit = int(digits[index])\n",
    "        for char in digit_to_char[current_digit]:\n",
    "            backtrack(index+1,current_combination+char)\n",
    "            \n",
    "    backtrack(0,'')\n",
    "    \n",
    "phonne_keys('23')\n"
   ]
  },
  {
   "cell_type": "code",
   "execution_count": 3,
   "id": "a6608dc7",
   "metadata": {},
   "outputs": [
    {
     "name": "stdout",
     "output_type": "stream",
     "text": [
      "['a', 'b', 'c']\n",
      "['a', 'c', 'b']\n",
      "['b', 'a', 'c']\n",
      "['b', 'c', 'a']\n",
      "['c', 'b', 'a']\n",
      "['c', 'a', 'b']\n"
     ]
    }
   ],
   "source": [
    "def All_permutations(arr,fi):\n",
    "    if fi == len(arr)-1:\n",
    "        print(arr)\n",
    "        return\n",
    "    \n",
    "    for i in range(fi,len(arr)):\n",
    "        arr[i],arr[fi] = arr[fi],arr[i]\n",
    "        All_permutations(arr,fi+1)\n",
    "        arr[i],arr[fi] = arr[fi],arr[i]\n",
    "        \n",
    "arr = ['a','b','c']\n",
    "All_permutations(arr,0)\n",
    "        \n",
    "        "
   ]
  },
  {
   "cell_type": "code",
   "execution_count": 7,
   "id": "e2128ae2",
   "metadata": {},
   "outputs": [
    {
     "data": {
      "text/plain": [
       "4"
      ]
     },
     "execution_count": 7,
     "metadata": {},
     "output_type": "execute_result"
    }
   ],
   "source": [
    "def Maximum_pieces_rope(n,a,b,c):\n",
    "    if n==0:\n",
    "        return 0\n",
    "    \n",
    "    if n < 0:\n",
    "        return -1\n",
    "    \n",
    "    temp1 = Maximum_pieces_rope(n-a,a,b,c)\n",
    "    temp2 = Maximum_pieces_rope(n-b,a,b,c)\n",
    "    temp3 = Maximum_pieces_rope(n-c,a,b,c)\n",
    "    \n",
    "    pieces = max(temp1,max(temp2,temp3))\n",
    "    if pieces == -1:\n",
    "        return -1\n",
    "    return pieces+1\n",
    "\n",
    "n = 20\n",
    "a,b,c = 5,8,6\n",
    "Maximum_pieces_rope(n,a,b,c)\n",
    "    \n",
    "    "
   ]
  },
  {
   "cell_type": "code",
   "execution_count": 8,
   "id": "58b7a23f",
   "metadata": {},
   "outputs": [
    {
     "data": {
      "text/plain": [
       "2"
      ]
     },
     "execution_count": 8,
     "metadata": {},
     "output_type": "execute_result"
    }
   ],
   "source": [
    "# Solution Of Subset Sum Problem Using Recursion\n",
    "def subset_sum(arr,sums,i):\n",
    "    if sums == 0:\n",
    "        return 1\n",
    "    if sums <0:\n",
    "        return 0\n",
    "    \n",
    "    if i == len(arr):\n",
    "        return 0\n",
    "    \n",
    "    return subset_sum(arr,sums-arr[i],i+1) + subset_sum(arr,sums,i+1)\n",
    "\n",
    "arr = [15,20,10,5]\n",
    "subset_sum(arr,25,0)"
   ]
  },
  {
   "cell_type": "code",
   "execution_count": 1,
   "id": "6b901293",
   "metadata": {},
   "outputs": [
    {
     "data": {
      "text/plain": [
       "13"
      ]
     },
     "execution_count": 1,
     "metadata": {},
     "output_type": "execute_result"
    }
   ],
   "source": [
    "# Solution Of Josephus Problem Using Recursion\n",
    "def josephus_Problem(n,k):\n",
    "    if n== 1:\n",
    "        return 0 \n",
    "    \n",
    "    return (josephus_Problem(n-1,k)+k)%n\n",
    "\n",
    "josephus_Problem(18,3)"
   ]
  },
  {
   "cell_type": "code",
   "execution_count": null,
   "id": "546ec2a0",
   "metadata": {},
   "outputs": [],
   "source": []
  }
 ],
 "metadata": {
  "kernelspec": {
   "display_name": "Python 3 (ipykernel)",
   "language": "python",
   "name": "python3"
  },
  "language_info": {
   "codemirror_mode": {
    "name": "ipython",
    "version": 3
   },
   "file_extension": ".py",
   "mimetype": "text/x-python",
   "name": "python",
   "nbconvert_exporter": "python",
   "pygments_lexer": "ipython3",
   "version": "3.10.5"
  }
 },
 "nbformat": 4,
 "nbformat_minor": 5
}
