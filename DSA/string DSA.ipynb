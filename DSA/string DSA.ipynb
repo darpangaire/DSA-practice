{
 "cells": [
  {
   "cell_type": "code",
   "execution_count": 1,
   "id": "e0873b09",
   "metadata": {},
   "outputs": [
    {
     "name": "stdout",
     "output_type": "stream",
     "text": [
      "abc\n",
      "acb\n",
      "bac\n",
      "bca\n",
      "cba\n",
      "cab\n"
     ]
    }
   ],
   "source": [
    "# Write a program to print all permutations of a given string\n",
    "def permutations(arr,fix,n):\n",
    "    if fix == n-1:\n",
    "        print(''.join(arr))\n",
    "        return\n",
    "    for i in range(fix,n):\n",
    "        arr[i],arr[fix] = arr[fix],arr[i]\n",
    "        permutations(arr,fix+1,n)\n",
    "        arr[i],arr[fix] = arr[fix],arr[i]\n",
    "        \n",
    "arr = ['a','b','c']\n",
    "permutations(arr,0,len(arr))\n"
   ]
  },
  {
   "cell_type": "code",
   "execution_count": null,
   "id": "cf286c0e",
   "metadata": {},
   "outputs": [],
   "source": []
  },
  {
   "cell_type": "code",
   "execution_count": null,
   "id": "5cc4cd89",
   "metadata": {},
   "outputs": [],
   "source": []
  },
  {
   "cell_type": "code",
   "execution_count": 6,
   "id": "b4e3fef9",
   "metadata": {},
   "outputs": [
    {
     "data": {
      "text/plain": [
       "10"
      ]
     },
     "execution_count": 6,
     "metadata": {},
     "output_type": "execute_result"
    }
   ],
   "source": [
    "def longest_palindromic_subString(s):\n",
    "    n = len(s)\n",
    "    start = 0\n",
    "    end = 1\n",
    "    for i in range(n):\n",
    "        l = i-1\n",
    "        h = i\n",
    "        while l >= 0 and h < n and s[l] == s[h]:\n",
    "            if h - l +1 > end:\n",
    "                start = l\n",
    "                end = h-l+1\n",
    "            l-=1\n",
    "            h+= 1\n",
    "                \n",
    "                \n",
    "        l = i-1\n",
    "        h = i+1\n",
    "        while l >= 0 and h < n and s[l] == s[h]:\n",
    "            if h-l+1 > end:\n",
    "                start = l\n",
    "                end = h-l+1\n",
    "                \n",
    "            l -= 1\n",
    "            h+=1\n",
    "    return end # length of the string.\n",
    "\n",
    "s = 'forgeeksskeegfor'\n",
    "longest_palindromic_subString(s)\n",
    "\n",
    "            \n",
    "                \n",
    "                \n",
    "            \n",
    "        "
   ]
  },
  {
   "cell_type": "code",
   "execution_count": 6,
   "id": "8367198e",
   "metadata": {},
   "outputs": [
    {
     "data": {
      "text/plain": [
       "'1[.]1[.]1[.]'"
      ]
     },
     "execution_count": 6,
     "metadata": {},
     "output_type": "execute_result"
    }
   ],
   "source": [
    "# convert the address[1,'.',1,'.',1,'.'] to '1[.]1[.]1[.]'\n",
    "def defanging_ip_address(address):\n",
    "    ans = ''\n",
    "    for i in address:\n",
    "        if i == '.':\n",
    "            ans = ans+'[.]'\n",
    "            \n",
    "        else:\n",
    "            ans = ans + str(i)\n",
    "            \n",
    "    return ans\n",
    "            \n",
    "address = [1,'.',1,'.',1,'.']\n",
    "defanging_ip_address(address)\n"
   ]
  },
  {
   "cell_type": "code",
   "execution_count": 3,
   "id": "cb89b51e",
   "metadata": {},
   "outputs": [
    {
     "name": "stdout",
     "output_type": "stream",
     "text": [
      "onamaz\n"
     ]
    },
    {
     "data": {
      "text/plain": [
       "True"
      ]
     },
     "execution_count": 3,
     "metadata": {},
     "output_type": "execute_result"
    }
   ],
   "source": [
    "# check if string is rotated by 2 places.\n",
    "def check_string(str1,str2):\n",
    "    ans = ''\n",
    "    if clock_wise(str1,str2,ans):\n",
    "        return True\n",
    "    \n",
    "    elif anticlockwise(str1,str2,ans):\n",
    "        return True\n",
    "    \n",
    "    else:\n",
    "        return False\n",
    "     \n",
    "def clock_wise(str1,str2,ans):\n",
    "    for i in range(1,3):\n",
    "        ans = str1[-i] + ans\n",
    "        \n",
    "    for i in range(len(str1)-2):\n",
    "        ans += str1[i]\n",
    "        \n",
    "    print(ans)\n",
    "    if ans == str2:\n",
    "        return True\n",
    "    else:\n",
    "        ans = ''\n",
    "    print('after answering')\n",
    "    print(ans)\n",
    "        \n",
    "        \n",
    "def anticlockwise(str1,str2,ans):\n",
    "    for i in range(2,len(str1)):\n",
    "        ans += str1[i]\n",
    "    \n",
    "    for i in range(2):\n",
    "        ans += str1[i]\n",
    "        \n",
    "    print(ans)\n",
    "        \n",
    "    if ans == str2:\n",
    "        return True\n",
    "    else:\n",
    "        ans = ''\n",
    "    print('after answering')\n",
    "    print(ans)\n",
    "    \n",
    "        \n",
    "str1 = 'amazon'\n",
    "str2 = 'onamaz'\n",
    "check_string(str1,str2)"
   ]
  },
  {
   "cell_type": "code",
   "execution_count": 5,
   "id": "b4a5640c",
   "metadata": {},
   "outputs": [
    {
     "data": {
      "text/plain": [
       "True"
      ]
     },
     "execution_count": 5,
     "metadata": {},
     "output_type": "execute_result"
    }
   ],
   "source": [
    "# check pangram\n",
    "def check_pangram(str1):\n",
    "    pangram = 'abcdefghijklmnopqrstuvwxyz'\n",
    "    n = len(pangram)\n",
    "    i = 0\n",
    "    while n >i:\n",
    "        if pangram[i] not in pangram:\n",
    "            return False\n",
    "        i += 1\n",
    "        \n",
    "    return True\n",
    "\n",
    "str1 = 'thequickbrownfoxjumpsoverthelazydog'\n",
    "check_pangram(str1)"
   ]
  },
  {
   "cell_type": "code",
   "execution_count": 9,
   "id": "90bbb1ef",
   "metadata": {},
   "outputs": [
    {
     "data": {
      "text/plain": [
       "True"
      ]
     },
     "execution_count": 9,
     "metadata": {},
     "output_type": "execute_result"
    }
   ],
   "source": [
    "def check_pangram(str1):\n",
    "    arr = [0]*26\n",
    "    n = len(str1)\n",
    "    i = 0\n",
    "    while n >i:\n",
    "        arr[ord(str1[i])-97] = 1\n",
    "        i += 1\n",
    "        \n",
    "    for i in arr:\n",
    "        if i == 0:\n",
    "            return False\n",
    "        \n",
    "    return True\n",
    "\n",
    "str1 = 'thequickbrownfoxjumpsoverthelazydog'\n",
    "check_pangram(str1)\n",
    "        "
   ]
  },
  {
   "cell_type": "code",
   "execution_count": 4,
   "id": "815e4a6c",
   "metadata": {},
   "outputs": [
    {
     "data": {
      "text/plain": [
       "'aabcde'"
      ]
     },
     "execution_count": 4,
     "metadata": {},
     "output_type": "execute_result"
    }
   ],
   "source": [
    "# sort a string\n",
    "# time complexity O(N)\n",
    "# space complexity O(26).\n",
    "def sorting(str1):\n",
    "    arr = [None]*26\n",
    "    n = len(str1)\n",
    "    i = 0\n",
    "    while n >i:\n",
    "        d = ord(str1[i])-97\n",
    "        if arr[d] == None:\n",
    "            arr[d] = 1\n",
    "        else:\n",
    "            arr[d] += 1\n",
    "        i += 1\n",
    "        \n",
    "    str1 = ''\n",
    "    for i in range(26):\n",
    "        if arr[i] != None:\n",
    "            for j in range(arr[i]):\n",
    "                str1 += chr(i+97)\n",
    "            \n",
    "    return str1\n",
    "\n",
    "str1 = 'edcaba'\n",
    "sorting(str1)\n",
    "            "
   ]
  },
  {
   "cell_type": "code",
   "execution_count": 7,
   "id": "6266ea45",
   "metadata": {},
   "outputs": [
    {
     "name": "stdout",
     "output_type": "stream",
     "text": [
      "5 9\n"
     ]
    }
   ],
   "source": [
    "# search substring from a string\n",
    "# time complexity is O(N)\n",
    "\n",
    "def search_substring(str1,sub_str):\n",
    "    len_str = len(str1)\n",
    "    len_sub_str = len(sub_str)\n",
    "    for i in range(len_str-len_sub_str+1):\n",
    "        if str1[i:i+len_sub_str] == sub_str:\n",
    "            print(i,i+len_sub_str)\n",
    "            return\n",
    "    return False\n",
    "\n",
    "str1 = 'abacdabad'\n",
    "sub_str = 'abad'\n",
    "search_substring(str1,sub_str)"
   ]
  },
  {
   "cell_type": "code",
   "execution_count": 6,
   "id": "ccf1932e",
   "metadata": {},
   "outputs": [
    {
     "data": {
      "text/plain": [
       "4"
      ]
     },
     "execution_count": 6,
     "metadata": {},
     "output_type": "execute_result"
    }
   ],
   "source": [
    "def longest_palindrome(str1):\n",
    "    dict = {}\n",
    "    count = 0\n",
    "    for i in range(len(str1)):\n",
    "        if str1[i] not in dict:\n",
    "            dict[str1[i]] = 1\n",
    "            \n",
    "        else:\n",
    "            dict[str1[i]] += 1\n",
    "            \n",
    "    for values in dict.values():\n",
    "        if values%2 == 0:\n",
    "            count += values\n",
    "            \n",
    "        elif values%2 != 0:\n",
    "            count += values-1\n",
    "            \n",
    "    if count%2 == 0:\n",
    "        for values in dict.values():\n",
    "            if values%2 != 0 and values-1 >0:\n",
    "                count += 1\n",
    "                return count\n",
    "            \n",
    "        return count\n",
    "            \n",
    "    else:\n",
    "        return count\n",
    "    \n",
    "str1 = 'babad'\n",
    "longest_palindrome(str1)"
   ]
  },
  {
   "cell_type": "code",
   "execution_count": 2,
   "id": "c743274c",
   "metadata": {},
   "outputs": [
    {
     "ename": "KeyError",
     "evalue": "'e'",
     "output_type": "error",
     "traceback": [
      "\u001b[1;31m---------------------------------------------------------------------------\u001b[0m",
      "\u001b[1;31mKeyError\u001b[0m                                  Traceback (most recent call last)",
      "Input \u001b[1;32mIn [2]\u001b[0m, in \u001b[0;36m<cell line: 10>\u001b[1;34m()\u001b[0m\n\u001b[0;32m      7\u001b[0m             lower[i] \u001b[38;5;241m+\u001b[39m\u001b[38;5;241m=\u001b[39m \u001b[38;5;241m1\u001b[39m\n\u001b[0;32m      9\u001b[0m str1 \u001b[38;5;241m=\u001b[39m \u001b[38;5;124m'\u001b[39m\u001b[38;5;124mleetcode\u001b[39m\u001b[38;5;124m'\u001b[39m\n\u001b[1;32m---> 10\u001b[0m \u001b[43msort_vowels\u001b[49m\u001b[43m(\u001b[49m\u001b[43mstr1\u001b[49m\u001b[43m)\u001b[49m\n",
      "Input \u001b[1;32mIn [2]\u001b[0m, in \u001b[0;36msort_vowels\u001b[1;34m(str1)\u001b[0m\n\u001b[0;32m      5\u001b[0m \u001b[38;5;28;01mfor\u001b[39;00m i \u001b[38;5;129;01min\u001b[39;00m str1:\n\u001b[0;32m      6\u001b[0m     \u001b[38;5;28;01mif\u001b[39;00m i \u001b[38;5;129;01min\u001b[39;00m  letter:\n\u001b[1;32m----> 7\u001b[0m         lower[i] \u001b[38;5;241m+\u001b[39m\u001b[38;5;241m=\u001b[39m \u001b[38;5;241m1\u001b[39m\n",
      "\u001b[1;31mKeyError\u001b[0m: 'e'"
     ]
    }
   ],
   "source": [
    "def sort_vowels(str1):\n",
    "    lower = {}\n",
    "    higher = {}\n",
    "    letter = 'aeiou'\n",
    "    for i in str1:\n",
    "        if i in  letter:\n",
    "            lower[i] += 1\n",
    "            \n",
    "    \n",
    "            \n",
    "str1 = 'leetcode'\n",
    "sort_vowels(str1)"
   ]
  },
  {
   "cell_type": "code",
   "execution_count": null,
   "id": "734e20ba",
   "metadata": {},
   "outputs": [],
   "source": []
  },
  {
   "cell_type": "code",
   "execution_count": null,
   "id": "5acfdfcc",
   "metadata": {},
   "outputs": [],
   "source": []
  }
 ],
 "metadata": {
  "kernelspec": {
   "display_name": "Python 3 (ipykernel)",
   "language": "python",
   "name": "python3"
  },
  "language_info": {
   "codemirror_mode": {
    "name": "ipython",
    "version": 3
   },
   "file_extension": ".py",
   "mimetype": "text/x-python",
   "name": "python",
   "nbconvert_exporter": "python",
   "pygments_lexer": "ipython3",
   "version": "3.10.5"
  }
 },
 "nbformat": 4,
 "nbformat_minor": 5
}
